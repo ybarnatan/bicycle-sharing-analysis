{
  "nbformat": 4,
  "nbformat_minor": 0,
  "metadata": {
    "colab": {
      "provenance": [],
      "collapsed_sections": [
        "Qm_szbkz3YXy",
        "SA0qq0NFfygE",
        "LqYm6oPWgQX5"
      ]
    },
    "kernelspec": {
      "name": "python3",
      "display_name": "Python 3"
    },
    "language_info": {
      "name": "python"
    }
  },
  "cells": [
    {
      "cell_type": "markdown",
      "source": [
        "# Import libraries\n"
      ],
      "metadata": {
        "id": "VBHejIu1fuE9"
      }
    },
    {
      "cell_type": "code",
      "source": [
        "import pandas as pd\n",
        "import datetime\n",
        "import matplotlib.pyplot as plt\n",
        "import seaborn as sns\n",
        "import numpy as np\n",
        "import geopandas as gpd\n",
        "from geopy.distance import geodesic\n",
        "from shapely.geometry import Point\n",
        "from shapely.geometry.polygon import Polygon\n",
        "import io\n",
        "np.set_printoptions(precision=15) #Sets precision\n"
      ],
      "metadata": {
        "id": "XqMf2TTlfsRo"
      },
      "execution_count": 20,
      "outputs": []
    },
    {
      "cell_type": "markdown",
      "source": [
        "# Import data\n"
      ],
      "metadata": {
        "id": "Qm_szbkz3YXy"
      }
    },
    {
      "cell_type": "code",
      "source": [
        "from google.colab import files\n",
        "datos = files.upload()\n"
      ],
      "metadata": {
        "colab": {
          "base_uri": "https://localhost:8080/",
          "height": 73
        },
        "id": "TOJmYGSIDes7",
        "outputId": "644af52f-6271-4539-d1b2-3fd3349e8a8b"
      },
      "execution_count": 12,
      "outputs": [
        {
          "output_type": "display_data",
          "data": {
            "text/plain": [
              "<IPython.core.display.HTML object>"
            ],
            "text/html": [
              "\n",
              "     <input type=\"file\" id=\"files-e076fea6-ead4-4619-ac4c-13dfaa82f716\" name=\"files[]\" multiple disabled\n",
              "        style=\"border:none\" />\n",
              "     <output id=\"result-e076fea6-ead4-4619-ac4c-13dfaa82f716\">\n",
              "      Upload widget is only available when the cell has been executed in the\n",
              "      current browser session. Please rerun this cell to enable.\n",
              "      </output>\n",
              "      <script>// Copyright 2017 Google LLC\n",
              "//\n",
              "// Licensed under the Apache License, Version 2.0 (the \"License\");\n",
              "// you may not use this file except in compliance with the License.\n",
              "// You may obtain a copy of the License at\n",
              "//\n",
              "//      http://www.apache.org/licenses/LICENSE-2.0\n",
              "//\n",
              "// Unless required by applicable law or agreed to in writing, software\n",
              "// distributed under the License is distributed on an \"AS IS\" BASIS,\n",
              "// WITHOUT WARRANTIES OR CONDITIONS OF ANY KIND, either express or implied.\n",
              "// See the License for the specific language governing permissions and\n",
              "// limitations under the License.\n",
              "\n",
              "/**\n",
              " * @fileoverview Helpers for google.colab Python module.\n",
              " */\n",
              "(function(scope) {\n",
              "function span(text, styleAttributes = {}) {\n",
              "  const element = document.createElement('span');\n",
              "  element.textContent = text;\n",
              "  for (const key of Object.keys(styleAttributes)) {\n",
              "    element.style[key] = styleAttributes[key];\n",
              "  }\n",
              "  return element;\n",
              "}\n",
              "\n",
              "// Max number of bytes which will be uploaded at a time.\n",
              "const MAX_PAYLOAD_SIZE = 100 * 1024;\n",
              "\n",
              "function _uploadFiles(inputId, outputId) {\n",
              "  const steps = uploadFilesStep(inputId, outputId);\n",
              "  const outputElement = document.getElementById(outputId);\n",
              "  // Cache steps on the outputElement to make it available for the next call\n",
              "  // to uploadFilesContinue from Python.\n",
              "  outputElement.steps = steps;\n",
              "\n",
              "  return _uploadFilesContinue(outputId);\n",
              "}\n",
              "\n",
              "// This is roughly an async generator (not supported in the browser yet),\n",
              "// where there are multiple asynchronous steps and the Python side is going\n",
              "// to poll for completion of each step.\n",
              "// This uses a Promise to block the python side on completion of each step,\n",
              "// then passes the result of the previous step as the input to the next step.\n",
              "function _uploadFilesContinue(outputId) {\n",
              "  const outputElement = document.getElementById(outputId);\n",
              "  const steps = outputElement.steps;\n",
              "\n",
              "  const next = steps.next(outputElement.lastPromiseValue);\n",
              "  return Promise.resolve(next.value.promise).then((value) => {\n",
              "    // Cache the last promise value to make it available to the next\n",
              "    // step of the generator.\n",
              "    outputElement.lastPromiseValue = value;\n",
              "    return next.value.response;\n",
              "  });\n",
              "}\n",
              "\n",
              "/**\n",
              " * Generator function which is called between each async step of the upload\n",
              " * process.\n",
              " * @param {string} inputId Element ID of the input file picker element.\n",
              " * @param {string} outputId Element ID of the output display.\n",
              " * @return {!Iterable<!Object>} Iterable of next steps.\n",
              " */\n",
              "function* uploadFilesStep(inputId, outputId) {\n",
              "  const inputElement = document.getElementById(inputId);\n",
              "  inputElement.disabled = false;\n",
              "\n",
              "  const outputElement = document.getElementById(outputId);\n",
              "  outputElement.innerHTML = '';\n",
              "\n",
              "  const pickedPromise = new Promise((resolve) => {\n",
              "    inputElement.addEventListener('change', (e) => {\n",
              "      resolve(e.target.files);\n",
              "    });\n",
              "  });\n",
              "\n",
              "  const cancel = document.createElement('button');\n",
              "  inputElement.parentElement.appendChild(cancel);\n",
              "  cancel.textContent = 'Cancel upload';\n",
              "  const cancelPromise = new Promise((resolve) => {\n",
              "    cancel.onclick = () => {\n",
              "      resolve(null);\n",
              "    };\n",
              "  });\n",
              "\n",
              "  // Wait for the user to pick the files.\n",
              "  const files = yield {\n",
              "    promise: Promise.race([pickedPromise, cancelPromise]),\n",
              "    response: {\n",
              "      action: 'starting',\n",
              "    }\n",
              "  };\n",
              "\n",
              "  cancel.remove();\n",
              "\n",
              "  // Disable the input element since further picks are not allowed.\n",
              "  inputElement.disabled = true;\n",
              "\n",
              "  if (!files) {\n",
              "    return {\n",
              "      response: {\n",
              "        action: 'complete',\n",
              "      }\n",
              "    };\n",
              "  }\n",
              "\n",
              "  for (const file of files) {\n",
              "    const li = document.createElement('li');\n",
              "    li.append(span(file.name, {fontWeight: 'bold'}));\n",
              "    li.append(span(\n",
              "        `(${file.type || 'n/a'}) - ${file.size} bytes, ` +\n",
              "        `last modified: ${\n",
              "            file.lastModifiedDate ? file.lastModifiedDate.toLocaleDateString() :\n",
              "                                    'n/a'} - `));\n",
              "    const percent = span('0% done');\n",
              "    li.appendChild(percent);\n",
              "\n",
              "    outputElement.appendChild(li);\n",
              "\n",
              "    const fileDataPromise = new Promise((resolve) => {\n",
              "      const reader = new FileReader();\n",
              "      reader.onload = (e) => {\n",
              "        resolve(e.target.result);\n",
              "      };\n",
              "      reader.readAsArrayBuffer(file);\n",
              "    });\n",
              "    // Wait for the data to be ready.\n",
              "    let fileData = yield {\n",
              "      promise: fileDataPromise,\n",
              "      response: {\n",
              "        action: 'continue',\n",
              "      }\n",
              "    };\n",
              "\n",
              "    // Use a chunked sending to avoid message size limits. See b/62115660.\n",
              "    let position = 0;\n",
              "    do {\n",
              "      const length = Math.min(fileData.byteLength - position, MAX_PAYLOAD_SIZE);\n",
              "      const chunk = new Uint8Array(fileData, position, length);\n",
              "      position += length;\n",
              "\n",
              "      const base64 = btoa(String.fromCharCode.apply(null, chunk));\n",
              "      yield {\n",
              "        response: {\n",
              "          action: 'append',\n",
              "          file: file.name,\n",
              "          data: base64,\n",
              "        },\n",
              "      };\n",
              "\n",
              "      let percentDone = fileData.byteLength === 0 ?\n",
              "          100 :\n",
              "          Math.round((position / fileData.byteLength) * 100);\n",
              "      percent.textContent = `${percentDone}% done`;\n",
              "\n",
              "    } while (position < fileData.byteLength);\n",
              "  }\n",
              "\n",
              "  // All done.\n",
              "  yield {\n",
              "    response: {\n",
              "      action: 'complete',\n",
              "    }\n",
              "  };\n",
              "}\n",
              "\n",
              "scope.google = scope.google || {};\n",
              "scope.google.colab = scope.google.colab || {};\n",
              "scope.google.colab._files = {\n",
              "  _uploadFiles,\n",
              "  _uploadFilesContinue,\n",
              "};\n",
              "})(self);\n",
              "</script> "
            ]
          },
          "metadata": {}
        },
        {
          "output_type": "stream",
          "name": "stdout",
          "text": [
            "Saving trips_2023_10percent.csv to trips_2023_10percent.csv\n"
          ]
        }
      ]
    },
    {
      "cell_type": "markdown",
      "source": [
        "Data Source The current notebook was performed on 10% of the original dataset, shortening overall runtime, subsampling by df.sample(frac=0.1, replace=False, random_state=1)"
      ],
      "metadata": {
        "id": "whajCSPDRK4x"
      }
    },
    {
      "cell_type": "code",
      "source": [
        "datos = pd.read_csv(io.BytesIO(datos['trips_2023_10percent.csv']))\n"
      ],
      "metadata": {
        "id": "2GGFu3U4Quox"
      },
      "execution_count": 21,
      "outputs": []
    },
    {
      "cell_type": "markdown",
      "source": [
        "# Helpful functions"
      ],
      "metadata": {
        "id": "SA0qq0NFfygE"
      }
    },
    {
      "cell_type": "code",
      "source": [
        "\n",
        "def fecha_hora(df):\n",
        "    ''' Splits \"fecha_origen_recorrido\" column into date and hour'''\n",
        "    fecha_hora = df['fecha_origen_recorrido'].str.split(' ', expand=True)\n",
        "    # Se almacena en un nuevo df\n",
        "    fecha_hora.columns = ['Fecha','Hora']\n",
        "\n",
        "    return fecha_hora\n",
        "\n",
        "def obtener_dia_semana(fecha):\n",
        "    '''Gets weekday name'''\n",
        "    return datetime.datetime.strptime(fecha,'%Y-%m-%d').weekday()\n",
        "\n",
        "def nombre_dia(df):\n",
        "    '''Gets weekday name based on the number of the day'''\n",
        "    dia = df.replace({0:'Mon', 1:'Tue', 2:'Wed', 3:'Thu', 4:'Fri', 5:'Sat', 6:'Sun'})\n",
        "    return dia\n",
        "\n",
        "def momento_dia_fc(x):\n",
        "    '''Moment of the day conversion'''\n",
        "    if (x['hora_del_dia']>= '06:00:00') & (x['hora_del_dia']<= '12:00:00'):\n",
        "        return '1.Morning'\n",
        "\n",
        "    if (x['hora_del_dia']>='12:00:00') & (x['hora_del_dia'] <= '14:00:00'):\n",
        "        return '2.Mid-day'\n",
        "\n",
        "    if (x['hora_del_dia']>='14:00:00') & (x['hora_del_dia'] <= '19:00:00'):\n",
        "        return '3.Afternoon'\n",
        "\n",
        "    if (x['hora_del_dia']>'19:00:00') & (x['hora_del_dia'] <= '24:00:00'):\n",
        "        return '4.Night'\n",
        "\n",
        "    if (x['hora_del_dia']>'00:00:00') & (x['hora_del_dia'] < '06:00:00'):\n",
        "        return '5.Early morning'\n"
      ],
      "metadata": {
        "id": "rISEbkbJfzxM"
      },
      "execution_count": 15,
      "outputs": []
    },
    {
      "cell_type": "markdown",
      "source": [
        "# Data wrangling and processing"
      ],
      "metadata": {
        "id": "LqYm6oPWgQX5"
      }
    },
    {
      "cell_type": "markdown",
      "source": [],
      "metadata": {
        "id": "hlbxhukNgTTw"
      }
    },
    {
      "cell_type": "code",
      "source": [
        "datos.rename(columns={\"género\": \"genero\"}, inplace=True)#Rename colmns\n",
        "\n",
        "#Change comma by dot\n",
        "datos['duracion_recorrido'] = datos['duracion_recorrido'].str.replace(',', '.')\n",
        "datos['duracion_recorrido'] = datos['duracion_recorrido'] .astype('str').str.replace(r\".\", r\"\", regex=False)\n",
        "\n",
        "#Use dict to convert data types\n",
        "convert_dict = {'duracion_recorrido': float,\n",
        "                'long_estacion_origen':float,\n",
        "                'lat_estacion_origen':float,\n",
        "                'long_estacion_destino':float,\n",
        "                'lat_estacion_destino':float\n",
        "                }\n",
        "datos = datos.astype(convert_dict)\n",
        "\n",
        "#Rename column to be more specific\n",
        "datos.rename(columns={\"duracion_recorrido\": \"duracion_recorrido_segs\"}, inplace=True)\n",
        "datos['duracion_min'] = datos['duracion_recorrido_segs'] / 60\n",
        "\n",
        "#Keep rows with reasonable time trip duration\n",
        "trip_limit = 60*3 #mins\n",
        "datos = datos.loc[datos['duracion_min']< trip_limit]\n",
        "\n",
        "\n",
        "#Check & treat NaNs, null values or empty cells (string, '').\n",
        "datos.isna().sum().sum()\n",
        "datos = datos.dropna()\n",
        "datos.isnull().values.any() #No null values\n",
        "\n",
        "#Split date and hour at beggining of trip\n",
        "tiempo = fecha_hora(datos)\n",
        "\n",
        "#Obtain weekday from trip's starting date\n",
        "weekday_number = tiempo.Fecha.map(obtener_dia_semana)\n",
        "datos['dia_de_la_semana'] = nombre_dia(weekday_number)\n",
        "\n",
        "#Obtain moment of the day from trip's starting date\n",
        "datos['hora_del_dia'] = tiempo.Hora\n",
        "datos['momento_dia'] = datos.apply(lambda x: momento_dia_fc(x),1)\n",
        "\n",
        "#Calculate distances using haversine method.\n",
        "lon1, lat1, lon2, lat2 = map(np.radians, [datos[\"long_estacion_origen\"],\n",
        "                                          datos[\"lat_estacion_origen\"],\n",
        "                                          datos[\"long_estacion_destino\"],\n",
        "                                          datos[\"lat_estacion_destino\"]]) #np.deg2rad(180) = np.radians\n",
        "newlon = lon2 - lon1\n",
        "newlat = lat2 - lat1\n",
        "\n",
        "haver_formula = np.sin(newlat/2.0)**2 + np.cos(lat1) * np.cos(lat2) * np.sin(newlon/2.0)**2\n",
        "dist = 2 * np.arcsin(np.sqrt(haver_formula))\n",
        "Rearth = 6367 #6367 for distance in KM; for miles use 3958\n",
        "km = Rearth * dist\n",
        "datos['dist_km'] =  km\n",
        "\n",
        "\n",
        "#Check if there are trips in which the bike was returned to the same station, and\n",
        "#delete them\n",
        "sum(datos['dist_km']==0)\n",
        "datos = datos.loc[datos['dist_km'] !=0 ]"
      ],
      "metadata": {
        "id": "S76h0L5vgUXq"
      },
      "execution_count": 22,
      "outputs": []
    },
    {
      "cell_type": "markdown",
      "source": [
        " # 1) Top 10 stations used as check in / out"
      ],
      "metadata": {
        "id": "mpb1eFDpQ1ot"
      }
    },
    {
      "cell_type": "code",
      "source": [
        "top_outs =  datos['nombre_estacion_origen'].value_counts()[:10].reset_index()\n",
        "top_outs.rename(columns = {'index':'station', 'nombre_estacion_origen':'count_station'}, inplace=True)\n",
        "top_ins =  datos['nombre_estacion_destino'].value_counts()[:10].reset_index()\n",
        "top_ins.rename(columns = {'index':'station', 'nombre_estacion_destino':'count_station'}, inplace=True)\n",
        "\n",
        "\n",
        "fig, axes = plt.subplots(1,2, figsize=(10,6), squeeze=False)\n",
        "fig.suptitle('Most popular stations - top 10', size=16)\n",
        "sns.barplot(ax = axes[0,0], x=top_outs.count_station, y=top_outs.station,  orient=\"h\", palette = (\"rocket\") )\n",
        "sns.barplot(ax = axes[0,1], x=top_ins.count_station, y=top_ins.station,  orient=\"h\", palette = (\"rocket\") )\n",
        "plt.tight_layout(pad=2)\n",
        "axes[0,0].set(xlabel='Count',  ylabel='Station name (check out)')\n",
        "axes[0,1].set(xlabel='Count',  ylabel='Station name (check in)')\n",
        "\n"
      ],
      "metadata": {
        "colab": {
          "base_uri": "https://localhost:8080/",
          "height": 632
        },
        "id": "6vErBaPEQ66s",
        "outputId": "cfa47c3f-1e36-4d6d-94fc-00b9a2ea94f9"
      },
      "execution_count": 23,
      "outputs": [
        {
          "output_type": "execute_result",
          "data": {
            "text/plain": [
              "[Text(0.5, 36.72222222222221, 'Count'),\n",
              " Text(301.8244949494949, 0.5, 'Station name (check in)')]"
            ]
          },
          "metadata": {},
          "execution_count": 23
        },
        {
          "output_type": "display_data",
          "data": {
            "text/plain": [
              "<Figure size 1000x600 with 2 Axes>"
            ],
            "image/png": "[encoded data removed]"
          },
          "metadata": {}
        }
      ]
    }
  ]
}